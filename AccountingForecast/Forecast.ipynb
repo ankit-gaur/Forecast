{
 "cells": [
  {
   "cell_type": "code",
   "execution_count": 211,
   "metadata": {},
   "outputs": [],
   "source": [
    "import pandas as pd\n",
    "import numpy as np\n",
    "import matplotlib.pyplot as plt\n",
    "import datetime\n",
    "from sklearn.model_selection import train_test_split\n",
    "from sklearn.preprocessing import StandardScaler\n",
    "from sklearn.linear_model import LinearRegression\n",
    "from sklearn.neighbors import KNeighborsRegressor\n",
    "from sklearn.ensemble import RandomForestRegressor\n",
    "from sklearn.svm import SVR\n",
    "import xgboost as xgb\n",
    "import random\n",
    "datelist = pd.date_range(pd.datetime.today(), periods=100).tolist()"
   ]
  },
  {
   "cell_type": "code",
   "execution_count": 154,
   "metadata": {},
   "outputs": [],
   "source": [
    "def timestamp(dt,minYear):#date in %y-%m-%d format\n",
    "    dt = dt.split(\"-\")\n",
    "    return (int(dt[0])-minYear)*365+int(dt[1])*30+int(dt[2])"
   ]
  },
  {
   "cell_type": "code",
   "execution_count": 147,
   "metadata": {},
   "outputs": [],
   "source": [
    "def get_datetime(dt): #date in %y-%m-%d format\n",
    "    dt = dt.split(\"-\")\n",
    "    return datetime.datetime(int(dt[0]),int(dt[1]),int(dt[2]))"
   ]
  },
  {
   "cell_type": "code",
   "execution_count": 228,
   "metadata": {},
   "outputs": [],
   "source": [
    "def get_weekly_forecast(nWeeks):\n",
    "    df = pd.read_csv(\"input.csv\")\n",
    "    minYear = int(df.DATE.values[0].split(\"-\")[0])\n",
    "    df[\"TIMESTAMP\"] = df.apply(lambda row: timestamp(row.DATE,minYear),axis=1)\n",
    "    df = get_weekly_data(df)\n",
    "    lastWeek = df.WEEK.values[-1]\n",
    "    lastTimestamp = df.TIMESTAMP.values[-1]\n",
    "    xtrain = df.iloc[:,:-1]\n",
    "    y = df.iloc[:,-1]\n",
    "    xtest = get_weekly_test_data(lastWeek,lastTimestamp,nWeeks)\n",
    "    clf,dtest = get_model(xtrain,xtest,y)\n",
    "    forecast = clf.predict(dtest)\n",
    "    return forecast"
   ]
  },
  {
   "cell_type": "code",
   "execution_count": 229,
   "metadata": {},
   "outputs": [],
   "source": [
    "def get_monthly_forecast(nMonths):\n",
    "    df = pd.read_csv(\"input.csv\")\n",
    "    minYear = int(df.DATE.values[0].split(\"-\")[0])\n",
    "    df[\"TIMESTAMP\"] = df.apply(lambda row: timestamp(row.DATE,minYear),axis=1)\n",
    "    df = get_monthly_data(df)\n",
    "    lastWeek = df.MONTH.values[-1]\n",
    "    lastTimestamp = df.TIMESTAMP.values[-1]\n",
    "    xtrain = df.iloc[:,:-1]\n",
    "    y = df.iloc[:,-1]\n",
    "    xtest = get_monthly_test_data(lastWeek,lastTimestamp,nMonths)\n",
    "    clf,dtest = get_model(xtrain,xtest,y)\n",
    "    forecast = clf.predict(dtest)\n",
    "    return forecast"
   ]
  },
  {
   "cell_type": "code",
   "execution_count": 128,
   "metadata": {},
   "outputs": [],
   "source": [
    "def get_weekly_test_data(lastWeek,lastTimestamp,nWeeks):\n",
    "    columns = [\"WEEK\",\"TIMESTAMP\"]\n",
    "    data = []\n",
    "    for i in range(nWeeks):\n",
    "        data.append([lastWeek+i+1, lastTimestamp+7*(i+1)])\n",
    "    return pd.DataFrame(data,columns = columns)"
   ]
  },
  {
   "cell_type": "code",
   "execution_count": 127,
   "metadata": {},
   "outputs": [],
   "source": [
    "def get_monthly_test_data(lastMonth,lastTimestamp,nMonths):\n",
    "    columns = [\"MONTH\",\"TIMESTAMP\"]\n",
    "    data = []\n",
    "    for i in range(nMonths):\n",
    "        data.append([lastMonth+i+1, lastTimestamp+30*(i+1)])\n",
    "    return pd.DataFrame(data,columns = columns)"
   ]
  },
  {
   "cell_type": "code",
   "execution_count": 114,
   "metadata": {},
   "outputs": [],
   "source": [
    "def get_weekly_data(dailyData):\n",
    "    week = 0\n",
    "    prevDay = None\n",
    "    amount = 0\n",
    "    columns = [\"WEEK\",\"TIMESTAMP\",\"AMOUNT\"]\n",
    "    data  = []\n",
    "    for i,row in dailyData.iterrows():\n",
    "        if(prevDay==None):\n",
    "            prevDay = get_datetime(row.DATE)\n",
    "        currDay = get_datetime(row.DATE)\n",
    "        if((currDay-prevDay).days<7):\n",
    "            amount+=row.AMOUNT\n",
    "            timestamp = row.TIMESTAMP\n",
    "        else:\n",
    "            data.append([week,timestamp,amount])\n",
    "            amount = row.AMOUNT\n",
    "            prevDay = currDay\n",
    "            week+=1\n",
    "    return pd.DataFrame(data,columns = columns)"
   ]
  },
  {
   "cell_type": "code",
   "execution_count": 124,
   "metadata": {},
   "outputs": [],
   "source": [
    "def get_monthly_data(dailyData):\n",
    "    month = 0\n",
    "    prevDay = None\n",
    "    amount = 0\n",
    "    columns = [\"MONTH\",\"TIMESTAMP\",\"AMOUNT\"]\n",
    "    data  = []\n",
    "    for i,row in dailyData.iterrows():\n",
    "        if(prevDay==None):\n",
    "            prevDay = get_datetime(row.DATE)\n",
    "        currDay = get_datetime(row.DATE)\n",
    "        if((currDay-prevDay).days<31):\n",
    "            amount+=row.AMOUNT\n",
    "            timestamp = row.TIMESTAMP\n",
    "        else:\n",
    "            data.append([month,timestamp,amount])\n",
    "            amount = row.AMOUNT\n",
    "            prevDay = currDay\n",
    "            month+=1\n",
    "    return pd.DataFrame(data,columns = columns)"
   ]
  },
  {
   "cell_type": "code",
   "execution_count": 126,
   "metadata": {},
   "outputs": [],
   "source": [
    "def get_data(npoints):\n",
    "    columns = [\"DATE\",\"CUSTOMER\",\"ACCOUNT\",\"AMOUNT\",\"ACTION\"]\n",
    "    #generate data for only one customer\n",
    "    data = []\n",
    "    customer = 1\n",
    "    account = 1\n",
    "    action = \"paid\"\n",
    "    timeseries = get_time_series(npoints)\n",
    "    for i in range(npoints):\n",
    "        data.append([timeseries[0][i],customer,account,timeseries[1][i],action])\n",
    "    return pd.DataFrame(data,columns = columns)"
   ]
  },
  {
   "cell_type": "code",
   "execution_count": 186,
   "metadata": {},
   "outputs": [],
   "source": [
    "def get_time_series(npoints):\n",
    "    num_payments_in_a_day = 5\n",
    "    base = datetime.datetime.today()\n",
    "    datelist = [base - datetime.timedelta(days=x) for x in range(0, npoints//num_payments_in_a_day)]\n",
    "    datelist = [x.strftime(\"%Y-%m-%d\") for x in datelist]\n",
    "    datelist = sorted(datelist)\n",
    "    datelist_multiplied = []\n",
    "    for d in datelist:\n",
    "        for i in range(num_payments_in_a_day):\n",
    "            datelist_multiplied.append(d)\n",
    "    data = []\n",
    "    for i in range(npoints):\n",
    "        data.append(500+i*5)\n",
    "#     print(len(datelist_multiplied)==len(data))\n",
    "    return (datelist_multiplied,data)"
   ]
  },
  {
   "cell_type": "code",
   "execution_count": 236,
   "metadata": {},
   "outputs": [],
   "source": [
    "def get_model(Xtrain,Xtest,ytrain):\n",
    "    model = LinearRegression()\n",
    "#     model = RandomForestRegressor(n_estimators=10)\n",
    "#     model = KNeighborsRegressor(n_neighbors=5)\n",
    "#     model = SVR()\n",
    "    scaler = StandardScaler()\n",
    "    scaler.fit(Xtrain)\n",
    "    Xtrain = scaler.transform(Xtrain)\n",
    "    Xtest = scaler.transform(Xtest)\n",
    "    model.fit(Xtrain,ytrain)\n",
    "    return (model,Xtest)"
   ]
  },
  {
   "cell_type": "code",
   "execution_count": 213,
   "metadata": {},
   "outputs": [],
   "source": [
    "def get_xgb_model(Xtrain,Xtest,ytrain):\n",
    "    dtrain = xgb.DMatrix(np.array(Xtrain), label=ytrain)\n",
    "    dtest = xgb.DMatrix(np.array(Xtest))\n",
    "    xgb_params = {\n",
    "#         'objective': 'binary:logistic',\n",
    "        'objective':'reg:linear',\n",
    "        'booster': 'gbtree',\n",
    "        'eval_metric': 'auc',\n",
    "        'eta': 0.02,\n",
    "        'max_depth': 8,\n",
    "        'lambda': 4,\n",
    "        'alpha': 0.02,\n",
    "        'subsample': 0.8,\n",
    "        'colsample_bytree': 0.8,\n",
    "        'min_child_weight':4,\n",
    "        'silent': 1\n",
    "    }\n",
    "    num_round=100\n",
    "    gbdt = xgb.train(xgb_params, dtrain,num_round)\n",
    "#     get_xgb_feat_importances(gbdt)\n",
    "    return (gbdt,dtest)"
   ]
  },
  {
   "cell_type": "code",
   "execution_count": 214,
   "metadata": {},
   "outputs": [],
   "source": [
    "get_data(10000).to_csv(\"input.csv\",index = False)"
   ]
  },
  {
   "cell_type": "code",
   "execution_count": 231,
   "metadata": {},
   "outputs": [
    {
     "data": {
      "text/html": [
       "<div>\n",
       "<style scoped>\n",
       "    .dataframe tbody tr th:only-of-type {\n",
       "        vertical-align: middle;\n",
       "    }\n",
       "\n",
       "    .dataframe tbody tr th {\n",
       "        vertical-align: top;\n",
       "    }\n",
       "\n",
       "    .dataframe thead th {\n",
       "        text-align: right;\n",
       "    }\n",
       "</style>\n",
       "<table border=\"1\" class=\"dataframe\">\n",
       "  <thead>\n",
       "    <tr style=\"text-align: right;\">\n",
       "      <th></th>\n",
       "      <th>DATE</th>\n",
       "      <th>CUSTOMER</th>\n",
       "      <th>ACCOUNT</th>\n",
       "      <th>AMOUNT</th>\n",
       "      <th>ACTION</th>\n",
       "      <th>TIMESTAMP</th>\n",
       "    </tr>\n",
       "  </thead>\n",
       "  <tbody>\n",
       "    <tr>\n",
       "      <th>0</th>\n",
       "      <td>2013-07-06</td>\n",
       "      <td>1</td>\n",
       "      <td>1</td>\n",
       "      <td>500</td>\n",
       "      <td>paid</td>\n",
       "      <td>216</td>\n",
       "    </tr>\n",
       "    <tr>\n",
       "      <th>1</th>\n",
       "      <td>2013-07-06</td>\n",
       "      <td>1</td>\n",
       "      <td>1</td>\n",
       "      <td>505</td>\n",
       "      <td>paid</td>\n",
       "      <td>216</td>\n",
       "    </tr>\n",
       "    <tr>\n",
       "      <th>2</th>\n",
       "      <td>2013-07-06</td>\n",
       "      <td>1</td>\n",
       "      <td>1</td>\n",
       "      <td>510</td>\n",
       "      <td>paid</td>\n",
       "      <td>216</td>\n",
       "    </tr>\n",
       "    <tr>\n",
       "      <th>3</th>\n",
       "      <td>2013-07-06</td>\n",
       "      <td>1</td>\n",
       "      <td>1</td>\n",
       "      <td>515</td>\n",
       "      <td>paid</td>\n",
       "      <td>216</td>\n",
       "    </tr>\n",
       "    <tr>\n",
       "      <th>4</th>\n",
       "      <td>2013-07-06</td>\n",
       "      <td>1</td>\n",
       "      <td>1</td>\n",
       "      <td>520</td>\n",
       "      <td>paid</td>\n",
       "      <td>216</td>\n",
       "    </tr>\n",
       "  </tbody>\n",
       "</table>\n",
       "</div>"
      ],
      "text/plain": [
       "         DATE  CUSTOMER  ACCOUNT  AMOUNT ACTION  TIMESTAMP\n",
       "0  2013-07-06         1        1     500   paid        216\n",
       "1  2013-07-06         1        1     505   paid        216\n",
       "2  2013-07-06         1        1     510   paid        216\n",
       "3  2013-07-06         1        1     515   paid        216\n",
       "4  2013-07-06         1        1     520   paid        216"
      ]
     },
     "execution_count": 231,
     "metadata": {},
     "output_type": "execute_result"
    }
   ],
   "source": [
    "df = pd.read_csv(\"input.csv\")\n",
    "df.tail()\n",
    "df[\"TIMESTAMP\"] = df.apply(lambda row: timestamp(row.DATE,2013),axis = 1)\n",
    "df.head()"
   ]
  },
  {
   "cell_type": "code",
   "execution_count": 232,
   "metadata": {},
   "outputs": [],
   "source": [
    "wd = get_weekly_data(df)"
   ]
  },
  {
   "cell_type": "code",
   "execution_count": 233,
   "metadata": {},
   "outputs": [
    {
     "data": {
      "text/html": [
       "<div>\n",
       "<style scoped>\n",
       "    .dataframe tbody tr th:only-of-type {\n",
       "        vertical-align: middle;\n",
       "    }\n",
       "\n",
       "    .dataframe tbody tr th {\n",
       "        vertical-align: top;\n",
       "    }\n",
       "\n",
       "    .dataframe thead th {\n",
       "        text-align: right;\n",
       "    }\n",
       "</style>\n",
       "<table border=\"1\" class=\"dataframe\">\n",
       "  <thead>\n",
       "    <tr style=\"text-align: right;\">\n",
       "      <th></th>\n",
       "      <th>WEEK</th>\n",
       "      <th>TIMESTAMP</th>\n",
       "      <th>AMOUNT</th>\n",
       "    </tr>\n",
       "  </thead>\n",
       "  <tbody>\n",
       "    <tr>\n",
       "      <th>280</th>\n",
       "      <td>280</td>\n",
       "      <td>2178</td>\n",
       "      <td>1735475</td>\n",
       "    </tr>\n",
       "    <tr>\n",
       "      <th>281</th>\n",
       "      <td>281</td>\n",
       "      <td>2185</td>\n",
       "      <td>1741600</td>\n",
       "    </tr>\n",
       "    <tr>\n",
       "      <th>282</th>\n",
       "      <td>282</td>\n",
       "      <td>2192</td>\n",
       "      <td>1747725</td>\n",
       "    </tr>\n",
       "    <tr>\n",
       "      <th>283</th>\n",
       "      <td>283</td>\n",
       "      <td>2199</td>\n",
       "      <td>1753850</td>\n",
       "    </tr>\n",
       "    <tr>\n",
       "      <th>284</th>\n",
       "      <td>284</td>\n",
       "      <td>2206</td>\n",
       "      <td>1759975</td>\n",
       "    </tr>\n",
       "  </tbody>\n",
       "</table>\n",
       "</div>"
      ],
      "text/plain": [
       "     WEEK  TIMESTAMP   AMOUNT\n",
       "280   280       2178  1735475\n",
       "281   281       2185  1741600\n",
       "282   282       2192  1747725\n",
       "283   283       2199  1753850\n",
       "284   284       2206  1759975"
      ]
     },
     "execution_count": 233,
     "metadata": {},
     "output_type": "execute_result"
    }
   ],
   "source": [
    "wd.tail()"
   ]
  },
  {
   "cell_type": "code",
   "execution_count": 234,
   "metadata": {},
   "outputs": [
    {
     "data": {
      "text/html": [
       "<div>\n",
       "<style scoped>\n",
       "    .dataframe tbody tr th:only-of-type {\n",
       "        vertical-align: middle;\n",
       "    }\n",
       "\n",
       "    .dataframe tbody tr th {\n",
       "        vertical-align: top;\n",
       "    }\n",
       "\n",
       "    .dataframe thead th {\n",
       "        text-align: right;\n",
       "    }\n",
       "</style>\n",
       "<table border=\"1\" class=\"dataframe\">\n",
       "  <thead>\n",
       "    <tr style=\"text-align: right;\">\n",
       "      <th></th>\n",
       "      <th>WEEK</th>\n",
       "      <th>TIMESTAMP</th>\n",
       "    </tr>\n",
       "  </thead>\n",
       "  <tbody>\n",
       "    <tr>\n",
       "      <th>0</th>\n",
       "      <td>285</td>\n",
       "      <td>2213</td>\n",
       "    </tr>\n",
       "    <tr>\n",
       "      <th>1</th>\n",
       "      <td>286</td>\n",
       "      <td>2220</td>\n",
       "    </tr>\n",
       "    <tr>\n",
       "      <th>2</th>\n",
       "      <td>287</td>\n",
       "      <td>2227</td>\n",
       "    </tr>\n",
       "    <tr>\n",
       "      <th>3</th>\n",
       "      <td>288</td>\n",
       "      <td>2234</td>\n",
       "    </tr>\n",
       "    <tr>\n",
       "      <th>4</th>\n",
       "      <td>289</td>\n",
       "      <td>2241</td>\n",
       "    </tr>\n",
       "  </tbody>\n",
       "</table>\n",
       "</div>"
      ],
      "text/plain": [
       "   WEEK  TIMESTAMP\n",
       "0   285       2213\n",
       "1   286       2220\n",
       "2   287       2227\n",
       "3   288       2234\n",
       "4   289       2241"
      ]
     },
     "execution_count": 234,
     "metadata": {},
     "output_type": "execute_result"
    }
   ],
   "source": [
    "wtd = get_weekly_test_data(284,2206,5)\n",
    "wtd.head()"
   ]
  }
 ],
 "metadata": {
  "kernelspec": {
   "display_name": "Python 3",
   "language": "python",
   "name": "python3"
  },
  "language_info": {
   "codemirror_mode": {
    "name": "ipython",
    "version": 3
   },
   "file_extension": ".py",
   "mimetype": "text/x-python",
   "name": "python",
   "nbconvert_exporter": "python",
   "pygments_lexer": "ipython3",
   "version": "3.6.4"
  }
 },
 "nbformat": 4,
 "nbformat_minor": 2
}
